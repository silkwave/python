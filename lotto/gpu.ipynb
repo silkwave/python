{
 "cells": [
  {
   "cell_type": "code",
   "execution_count": null,
   "metadata": {},
   "outputs": [],
   "source": [
    "import tensorflow as tf # type: ignore\n",
    "print(\"Num GPUs Available: \", len(tf.config.experimental.list_physical_devices('GPU')))\n",
    "\n",
    "# GPU를 사용할 수 있으면 사용하도록 설정\n",
    "physical_devices = tf.config.list_physical_devices('GPU')\n",
    "# tf.config.experimental.set_memory_growth(physical_devices[0], True)  \n",
    "\n",
    "if len(physical_devices) > 0:\n",
    "    tf.config.experimental.set_memory_growth(physical_devices[0], True)\n",
    "\n",
    " "
   ]
  },
  {
   "cell_type": "code",
   "execution_count": null,
   "metadata": {},
   "outputs": [],
   "source": [
    "import tensorflow as tf # type: ignore\n",
    "from tensorflow.keras import layers, models # type: ignore\n",
    "\n",
    "# 모델 정의\n",
    "model = models.Sequential([\n",
    "    layers.Input(shape=(28, 28)),\n",
    "    layers.Flatten(),\n",
    "    layers.Dense(128, activation='relu'),\n",
    "    layers.Dropout(0.2),\n",
    "    layers.Dense(10, activation='softmax')\n",
    "])\n",
    "\n",
    "# 모델 컴파일\n",
    "model.compile(optimizer='adam',\n",
    "              loss='sparse_categorical_crossentropy',\n",
    "              metrics=['accuracy'])\n",
    "\n",
    "# 데이터 로드 및 전처리 (예: MNIST 데이터셋 사용)\n",
    "mnist = tf.keras.datasets.mnist\n",
    "(x_train, y_train), (x_test, y_test) = mnist.load_data()\n",
    "x_train, x_test = x_train / 255.0, x_test / 255.0\n",
    "\n",
    "# 모델 훈련\n",
    "model.fit(x_train, y_train, epochs=5)\n",
    "\n",
    "# 모델 평가\n",
    "model.evaluate(x_test, y_test)\n"
   ]
  },
  {
   "cell_type": "code",
   "execution_count": null,
   "metadata": {},
   "outputs": [],
   "source": [
    "import tensorflow as tf # type: ignore\n",
    "\n",
    "# 가상 데이터셋 생성 예제\n",
    "def create_dataset():\n",
    "    # 샘플 데이터 생성\n",
    "    x = tf.random.normal(shape=(100, 28, 28))\n",
    "    y = tf.random.uniform(shape=(100,), maxval=10, dtype=tf.int32)\n",
    "    # tf.data.Dataset 생성\n",
    "    dataset = tf.data.Dataset.from_tensor_slices((x, y))\n",
    "    dataset = dataset.batch(32)\n",
    "    return dataset\n",
    "\n",
    "# 훈련 데이터셋 및 테스트 데이터셋 생성\n",
    "dataset = create_dataset()\n",
    "test_dataset = create_dataset()\n",
    "\n",
    "# 예제 훈련 함수\n",
    "@tf.function(reduce_retracing=True)\n",
    "def train_step(data):\n",
    "    # 훈련 로직 작성\n",
    "    x, y = data\n",
    "    # 여기서 x, y를 사용하여 모델 훈련\n",
    "    pass\n",
    "\n",
    "# 예제 테스트 함수\n",
    "@tf.function(reduce_retracing=True)\n",
    "def test_step(data):\n",
    "    # 테스트 로직 작성\n",
    "    x, y = data\n",
    "    # 여기서 x, y를 사용하여 모델 테스트\n",
    "    pass\n",
    "\n",
    "# 루프 내에서 train_step 호출\n",
    "for batch in dataset:\n",
    "    # 'batch'가 TensorFlow 텐서인지 확인\n",
    "    train_step(batch)\n",
    "\n",
    "# 루프 내에서 test_step 호출\n",
    "for batch in test_dataset:\n",
    "    # 'batch'가 TensorFlow 텐서인지 확인\n",
    "    test_step(batch)\n"
   ]
  },
  {
   "cell_type": "code",
   "execution_count": null,
   "metadata": {},
   "outputs": [],
   "source": []
  }
 ],
 "metadata": {
  "kernelspec": {
   "display_name": "Python 3",
   "language": "python",
   "name": "python3"
  },
  "language_info": {
   "codemirror_mode": {
    "name": "ipython",
    "version": 3
   },
   "file_extension": ".py",
   "mimetype": "text/x-python",
   "name": "python",
   "nbconvert_exporter": "python",
   "pygments_lexer": "ipython3",
   "version": "3.11.2"
  }
 },
 "nbformat": 4,
 "nbformat_minor": 2
}
