{
 "cells": [
  {
   "cell_type": "code",
   "execution_count": null,
   "metadata": {},
   "outputs": [],
   "source": [
    "# import tensorflow as tf\n",
    "# from tensorflow import keras\n",
    "# from keras.models import Model\n",
    "# from keras.layers import LSTM, Dense, Input\n",
    "# import numpy as np\n",
    "# import matplotlib.pyplot as plt\n"
   ]
  },
  {
   "cell_type": "code",
   "execution_count": null,
   "metadata": {},
   "outputs": [],
   "source": [
    "import tensorflow as tf # type: ignore\n",
    "from tensorflow import keras # type: ignore\n",
    "from keras.models import Model # type: ignore\n",
    "from keras.layers import LSTM, Dense, Input # type: ignore\n",
    "import numpy as np # type: ignore\n",
    "import matplotlib.pyplot as plt # type: ignore\n",
    "from keras import backend as K  ## type: ignore\n",
    "\n",
    "print(\"Num GPUs Available: \", len(tf.config.experimental.list_physical_devices('GPU')))\n",
    "\n",
    "\n",
    "# GPU를 사용할 수 있으면 사용하도록 설정\n",
    "physical_devices = tf.config.list_physical_devices('GPU')\n",
    "\n",
    "if len(physical_devices) > 0:\n",
    "    tf.config.experimental.set_memory_growth(physical_devices[0], True)"
   ]
  },
  {
   "cell_type": "code",
   "execution_count": null,
   "metadata": {},
   "outputs": [],
   "source": [
    "# %pip show tensorflow\n",
    "# %pip show keras\n"
   ]
  },
  {
   "cell_type": "code",
   "execution_count": null,
   "metadata": {},
   "outputs": [],
   "source": [
    "# 한글 폰트 설정\n",
    "def set_korean_font():\n",
    "    plt.rcParams['font.family'] = 'Noto Sans CJK JP'\n",
    "    plt.rcParams['font.sans-serif'] = ['Noto Serif CJK JP']"
   ]
  },
  {
   "cell_type": "code",
   "execution_count": null,
   "metadata": {},
   "outputs": [],
   "source": [
    "# 당첨번호를 원핫인코딩벡터(ohbin)으로 변환\n",
    "def numbers_to_ohbin(numbers):\n",
    "    ohbin = np.zeros(45)\n",
    "    for number in numbers:\n",
    "        index = int(number) - 1\n",
    "        ohbin[index] = 1\n",
    "    return ohbin\n",
    "\n",
    "# 데이터를 원핫인코딩벡터로 변환하여 반환\n",
    "def prepare_data(file_path):\n",
    "    rows = np.loadtxt(file_path, delimiter=\",\")\n",
    "    print(rows.shape)\n",
    "\n",
    "    x_samples = [numbers_to_ohbin(row[1:7]) for row in rows[:-1]]\n",
    "    y_samples = [numbers_to_ohbin(row[1:7]) for row in rows[1:]]\n",
    "    return np.expand_dims(np.array(x_samples), axis=1), np.array(y_samples)\n"
   ]
  },
  {
   "cell_type": "code",
   "execution_count": null,
   "metadata": {},
   "outputs": [],
   "source": [
    "# LSTM을 사용하는 모델을 생성합니다.\n",
    "def create_model(input_shape):\n",
    "    inputs = Input(shape=(1, 45))\n",
    "    lstm = LSTM(128, return_sequences=False, stateful=False)(inputs)\n",
    "    outputs = Dense(45, activation='sigmoid')(lstm)\n",
    "    \n",
    "    model = Model(inputs=inputs, outputs=outputs)\n",
    "    model.compile(loss='binary_crossentropy', optimizer='adam', metrics=['accuracy'])\n",
    "    return model"
   ]
  },
  {
   "cell_type": "code",
   "execution_count": null,
   "metadata": {},
   "outputs": [],
   "source": [
    "# 훈련 및 테스트 함수\n",
    "def train_and_test_model(model, X_train, y_train, X_test, y_test, epochs, batch_size, memory_cleanup_interval):\n",
    "    train_loss = []\n",
    "    test_loss = []\n",
    "    for epoch in range(epochs):\n",
    "        batch_train_loss = []\n",
    "        for i in range(0, X_train.shape[0], batch_size):\n",
    "            # print(f'epoch {epoch+1}/{epochs} 훈련 {i}/{X_train.shape[0]}')\n",
    "            xs, ys = X_train[i:i+batch_size], y_train[i:i+batch_size]\n",
    "            loss, _ = model.train_on_batch(xs, ys)\n",
    "            batch_train_loss.append(loss)\n",
    "        train_loss.append(np.mean(batch_train_loss))\n",
    "        # print(f'에포크 {epoch + 1:3d} 훈련 손실: {train_loss[-1]:.4f}')\n",
    "\n",
    "        # 테스트 데이터로 평가\n",
    "        batch_test_loss = []\n",
    "        for i in range(0, X_test.shape[0], batch_size):\n",
    "            xs, ys = X_test[i:i+batch_size], y_test[i:i+batch_size]\n",
    "            loss, _ = model.test_on_batch(xs, ys)\n",
    "            batch_test_loss.append(loss)\n",
    "            # print(f'epoch {epoch+1}/{epochs} 테스트 {i}/{X_test.shape[0]}')\n",
    "        test_loss.append(np.mean(batch_test_loss))\n",
    "        # print(f'에포크 {epoch + 1:3d} 테스트 손실: {test_loss[-1]:.4f}')\n",
    "\n",
    "        # 메모리 해제\n",
    "        if (epoch + 1) % memory_cleanup_interval == 0:\n",
    "            K.clear_session()\n",
    "            print(f'메모리 해제 완료 :: 에포크 {epoch + 1:3d} 훈련 손실: {train_loss[-1]:.4f} 테스트 손실: {test_loss[-1]:.4f}')\n",
    "\n",
    "    return train_loss, test_loss"
   ]
  },
  {
   "cell_type": "code",
   "execution_count": null,
   "metadata": {},
   "outputs": [],
   "source": [
    "# 추론된 확률을 기반으로 당첨 번호를 생성합니다.\n",
    "def gen_numbers_from_probability(nums_prob):\n",
    "    ball_box = []\n",
    "    for n in range(45):\n",
    "        ball_count = int(nums_prob[n] * 100 + 1)\n",
    "        ball = np.full((ball_count), n+1)  # 1부터 시작\n",
    "        ball_box += list(ball)\n",
    "\n",
    "    selected_balls = []\n",
    "    while len(selected_balls) < 6:\n",
    "        ball_index = np.random.randint(len(ball_box))\n",
    "        ball = ball_box[ball_index]\n",
    "        if ball not in selected_balls:\n",
    "            selected_balls.append(ball)\n",
    "    return sorted(selected_balls)"
   ]
  },
  {
   "cell_type": "code",
   "execution_count": null,
   "metadata": {},
   "outputs": [],
   "source": [
    "# 손실 그래프 생성\n",
    "def plot_loss(train_loss, test_loss):\n",
    "\n",
    "    print(f'train_loss {train_loss[-1]} test_loss: {test_loss[-1]}')\n",
    "\n",
    "    plt.plot(train_loss, label='훈련 손실')\n",
    "    plt.plot(test_loss, label='테스트 손실')\n",
    "    plt.xlabel('에포크')\n",
    "    plt.ylabel('손실')\n",
    "    plt.legend()\n",
    "    plt.show()\n"
   ]
  },
  {
   "cell_type": "code",
   "execution_count": null,
   "metadata": {},
   "outputs": [],
   "source": [
    "# # 메인 함수\n",
    "# def main():\n",
    "\n",
    "#     # 한글 폰트 설정\n",
    "#     set_korean_font()\n",
    "\n",
    "#     # 데이터 준비\n",
    "#     X_train, y_train = prepare_data(\"./lotto.csv\")\n",
    "#     # 임시로 훈련 데이터를 테스트 데이터로 사용\n",
    "#     X_test, y_test = X_train, y_train  \n",
    "\n",
    "#     # 모델 생성\n",
    "#     model = create_model(input_shape=(1, 45))\n",
    "\n",
    "#     # 모델 훈련 및 손실 기록 (배치 크기를 32로 설정, 메모리 해제 주기를 10으로 설정)\n",
    "#     train_loss, test_loss = train_and_test_model(model, X_train, y_train, X_test, y_test, epochs=200, batch_size=32, memory_cleanup_interval=10)        \n",
    "#     print(\"훈련 및 테스트 완료\")\n",
    "\n",
    "#     # 마지막 회차까지 학습한 모델로 다음 회차 추론\n",
    "#     xs = X_train[-1].reshape(1, 1, 45)\n",
    "#     ys_pred = model.predict_on_batch(xs)\n",
    "\n",
    "#     for n in range(5):\n",
    "#         numbers = gen_numbers_from_probability(ys_pred[0])\n",
    "#         print(f'{n}: {numbers}')\n",
    "\n",
    "#     # 손실 그래프 생성\n",
    "#     plot_loss(train_loss, test_loss) \n",
    "\n",
    "# # 메인 함수 실행\n",
    "# if __name__ == \"__main__\":\n",
    "#     main()\n"
   ]
  },
  {
   "cell_type": "code",
   "execution_count": null,
   "metadata": {},
   "outputs": [],
   "source": [
    "# 한글 폰트 설정\n",
    "set_korean_font()\n",
    "\n",
    "# 데이터 준비\n",
    "X_train, y_train = prepare_data(\"./lotto.csv\")\n",
    "# 임시로 훈련 데이터를 테스트 데이터로 사용\n",
    "X_test, y_test = X_train, y_train  \n",
    "\n",
    "# 모델 생성\n",
    "model = create_model(input_shape=(1, 45))\n",
    "\n",
    "# 모델 훈련 및 손실 기록 (배치 크기를 32로 설정, 메모리 해제 주기를 10으로 설정)\n",
    "train_loss, test_loss = train_and_test_model(model, X_train, y_train, X_test, y_test, epochs=54, batch_size=32, memory_cleanup_interval=10)        \n",
    "print(\"훈련 및 테스트 완료\")\n",
    "\n",
    "# 마지막 회차까지 학습한 모델로 다음 회차 추론\n",
    "xs = X_train[-1].reshape(1, 1, 45)\n",
    "ys_pred = model.predict_on_batch(xs)\n",
    "\n"
   ]
  },
  {
   "cell_type": "code",
   "execution_count": null,
   "metadata": {},
   "outputs": [],
   "source": [
    "for n in range(5):\n",
    "    numbers = gen_numbers_from_probability(ys_pred[0])\n",
    "    print(f'{n}: {numbers}')\n",
    "\n"
   ]
  },
  {
   "cell_type": "code",
   "execution_count": null,
   "metadata": {},
   "outputs": [],
   "source": [
    "# 손실 그래프 생성\n",
    "plot_loss(train_loss, test_loss) "
   ]
  }
 ],
 "metadata": {
  "kernelspec": {
   "display_name": "Python 3",
   "language": "python",
   "name": "python3"
  },
  "language_info": {
   "codemirror_mode": {
    "name": "ipython",
    "version": 3
   },
   "file_extension": ".py",
   "mimetype": "text/x-python",
   "name": "python",
   "nbconvert_exporter": "python",
   "pygments_lexer": "ipython3",
   "version": "3.11.2"
  }
 },
 "nbformat": 4,
 "nbformat_minor": 2
}
