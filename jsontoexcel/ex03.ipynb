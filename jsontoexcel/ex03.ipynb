{
 "cells": [
  {
   "cell_type": "code",
   "execution_count": 2,
   "metadata": {},
   "outputs": [
    {
     "name": "stdout",
     "output_type": "stream",
     "text": [
      "Excel 파일로 저장되었습니다.\n"
     ]
    }
   ],
   "source": [
    "import openpyxl\n",
    "import re\n",
    "\n",
    "# 🔹 엑셀 파일 열기\n",
    "wb = openpyxl.load_workbook('data.xlsx')\n",
    "ws = wb.active  # 첫 번째 시트 가져오기\n",
    "\n",
    "# 🔹 엑셀 데이터 읽어서 문자열로 변환\n",
    "data = \"\\n\".join(\n",
    "    str(row[0]) for row in ws.iter_rows(min_row=1, max_col=1, values_only=True) if row[0] is not None\n",
    ")\n",
    "\n",
    "# 🔹 공백 정리\n",
    "cleaned_data = re.sub(r'\\s+', ' ', data).strip()\n",
    "\n",
    "# 🔹 쉼표(`,`) 기준으로 데이터 분리\n",
    "lines = cleaned_data.split(\", \")\n",
    "\n",
    "# 🔹 Key-Value 분리 및 리스트 생성\n",
    "split_lines = []\n",
    "for line in lines:\n",
    "    parts = line.split(\":\", 1)  # `:` 기준으로 나누기\n",
    "    if len(parts) == 2:\n",
    "        split_lines.append([parts[0].strip(), parts[1].strip()])\n",
    "    else:\n",
    "        split_lines.append([parts[0].strip(), \"\"])  # 값이 없는 경우 처리\n",
    "\n",
    "# 🔹 새 엑셀 파일 생성 및 데이터 저장\n",
    "new_wb = openpyxl.Workbook()\n",
    "new_ws = new_wb.active\n",
    "new_ws.append([\"Key\", \"Value\"])  # 헤더 추가\n",
    "\n",
    "for row in split_lines:\n",
    "    new_ws.append(row)  # 데이터 추가\n",
    "\n",
    "# 🔹 엑셀 파일 저장\n",
    "new_wb.save(\"super_hero_squad.xlsx\")\n",
    "\n",
    "print(\"Excel 파일로 저장되었습니다.\")\n"
   ]
  }
 ],
 "metadata": {
  "kernelspec": {
   "display_name": ".venv",
   "language": "python",
   "name": "python3"
  },
  "language_info": {
   "codemirror_mode": {
    "name": "ipython",
    "version": 3
   },
   "file_extension": ".py",
   "mimetype": "text/x-python",
   "name": "python",
   "nbconvert_exporter": "python",
   "pygments_lexer": "ipython3",
   "version": "3.11.2"
  }
 },
 "nbformat": 4,
 "nbformat_minor": 2
}
