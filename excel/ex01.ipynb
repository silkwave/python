{
 "cells": [
  {
   "cell_type": "code",
   "execution_count": null,
   "metadata": {},
   "outputs": [],
   "source": [
    "import numpy as np\n",
    "import pandas as pd"
   ]
  },
  {
   "cell_type": "code",
   "execution_count": 9,
   "metadata": {},
   "outputs": [
    {
     "name": "stdout",
     "output_type": "stream",
     "text": [
      "파일0.csv\n",
      "파일1.csv\n",
      "파일2.csv\n",
      "파일3.csv\n",
      "파일4.csv\n",
      "파일5.csv\n",
      "파일6.csv\n",
      "파일7.csv\n",
      "파일8.csv\n",
      "파일9.csv\n"
     ]
    }
   ],
   "source": [
    "for i in range(10):\n",
    "    print(f'파일{i}.csv')\n",
    "    np.random.seed(i)\n",
    "    data = (np.random.random(size=(20,5)) * 100).astype(int)\n",
    "    pd.DataFrame(data, columns=list('ABCDE')).to_csv(f'파일{i}.csv')"
   ]
  },
  {
   "cell_type": "code",
   "execution_count": 23,
   "metadata": {},
   "outputs": [
    {
     "data": {
      "text/plain": [
       "<bound method NDFrame.head of        A   B    C   D   E\n",
       "0    864  71   70  54  42\n",
       "1   1024  43   99  96  38\n",
       "2   1264  52   66  92   7\n",
       "3    128   2   93  77  87\n",
       "4   1552  79   56  78  11\n",
       "5   1008  14  104  52  41\n",
       "6    416  77   55  56   1\n",
       "7    976  61   71  94  68\n",
       "8    560  43   79   6  66\n",
       "9   1072  21   22  31  36\n",
       "10   912  43  108  10  20\n",
       "11   256  65   35  46  24\n",
       "12   240  11   75  13  19\n",
       "13   576  82   19  83   9\n",
       "14  1552  46  107  60  73\n",
       "15    48  28   22  29  11\n",
       "16   496  41   16  69  56\n",
       "17   416  52   19  57  92\n",
       "18   496  66   23  71  28\n",
       "19   288  58   12  82   0>"
      ]
     },
     "execution_count": 23,
     "metadata": {},
     "output_type": "execute_result"
    }
   ],
   "source": []
  },
  {
   "cell_type": "code",
   "execution_count": 26,
   "metadata": {},
   "outputs": [],
   "source": [
    "for i in range(10):\n",
    "    df = pd.read_csv(f'파일{i}.csv', index_col=0)\n",
    "    df['A'] = df['A'] * 2\n",
    "    df['C'] = df['C'] + 10\n",
    "    df.to_csv(f'파일{i}.csv')"
   ]
  },
  {
   "cell_type": "code",
   "execution_count": null,
   "metadata": {},
   "outputs": [],
   "source": [
    "\n"
   ]
  },
  {
   "cell_type": "code",
   "execution_count": 21,
   "metadata": {},
   "outputs": [],
   "source": []
  },
  {
   "cell_type": "code",
   "execution_count": null,
   "metadata": {},
   "outputs": [],
   "source": []
  }
 ],
 "metadata": {
  "kernelspec": {
   "display_name": "Python 3",
   "language": "python",
   "name": "python3"
  },
  "language_info": {
   "codemirror_mode": {
    "name": "ipython",
    "version": 3
   },
   "file_extension": ".py",
   "mimetype": "text/x-python",
   "name": "python",
   "nbconvert_exporter": "python",
   "pygments_lexer": "ipython3",
   "version": "3.12.3"
  }
 },
 "nbformat": 4,
 "nbformat_minor": 2
}
