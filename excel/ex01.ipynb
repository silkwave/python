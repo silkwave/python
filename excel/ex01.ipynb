{
 "cells": [
  {
   "cell_type": "code",
   "execution_count": 1,
   "metadata": {},
   "outputs": [],
   "source": [
    "import numpy as np\n",
    "import pandas as pd"
   ]
  },
  {
   "cell_type": "code",
   "execution_count": 2,
   "metadata": {},
   "outputs": [
    {
     "name": "stdout",
     "output_type": "stream",
     "text": [
      "파일0.csv\n",
      "파일1.csv\n",
      "파일2.csv\n",
      "파일3.csv\n",
      "파일4.csv\n",
      "파일5.csv\n",
      "파일6.csv\n",
      "파일7.csv\n",
      "파일8.csv\n",
      "파일9.csv\n"
     ]
    }
   ],
   "source": [
    "for i in range(10):\n",
    "    print(f'파일{i}.csv')\n",
    "    np.random.seed(i)\n",
    "    data = (np.random.random(size=(20,5)) * 100).astype(int)\n",
    "    pd.DataFrame(data, columns=list('ABCDE')).to_csv(f'파일{i}.csv')"
   ]
  },
  {
   "cell_type": "code",
   "execution_count": null,
   "metadata": {},
   "outputs": [],
   "source": []
  },
  {
   "cell_type": "code",
   "execution_count": 3,
   "metadata": {},
   "outputs": [],
   "source": [
    "for i in range(10):\n",
    "    df = pd.read_csv(f'파일{i}.csv', index_col=0)\n",
    "    df['A'] = df['A'] * 2\n",
    "    df['C'] = df['C'] + 10\n",
    "    df.to_csv(f'파일{i}.csv')"
   ]
  },
  {
   "cell_type": "code",
   "execution_count": null,
   "metadata": {},
   "outputs": [],
   "source": [
    "\n"
   ]
  },
  {
   "cell_type": "code",
   "execution_count": null,
   "metadata": {},
   "outputs": [],
   "source": []
  },
  {
   "cell_type": "code",
   "execution_count": null,
   "metadata": {},
   "outputs": [],
   "source": []
  }
 ],
 "metadata": {
  "kernelspec": {
   "display_name": ".venv",
   "language": "python",
   "name": "python3"
  },
  "language_info": {
   "codemirror_mode": {
    "name": "ipython",
    "version": 3
   },
   "file_extension": ".py",
   "mimetype": "text/x-python",
   "name": "python",
   "nbconvert_exporter": "python",
   "pygments_lexer": "ipython3",
   "version": "3.12.3"
  }
 },
 "nbformat": 4,
 "nbformat_minor": 2
}
